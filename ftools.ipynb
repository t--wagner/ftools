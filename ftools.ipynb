{
 "cells": [
  {
   "cell_type": "markdown",
   "metadata": {},
   "source": [
    "# Ftools module"
   ]
  },
  {
   "cell_type": "markdown",
   "metadata": {},
   "source": [
    "\n",
    "The ftools module combines a bunch of Python functions to create, read and handle files more convenient."
   ]
  },
  {
   "cell_type": "code",
   "execution_count": 1,
   "metadata": {
    "collapsed": false
   },
   "outputs": [],
   "source": [
    "import ftools"
   ]
  },
  {
   "cell_type": "markdown",
   "metadata": {},
   "source": [
    "## 1. Creating"
   ]
  },
  {
   "cell_type": "markdown",
   "metadata": {},
   "source": [
    "###  1.1 mkdir - Creating folders and subfolder"
   ]
  },
  {
   "cell_type": "markdown",
   "metadata": {},
   "source": [
    "Creating folders and subfolders."
   ]
  },
  {
   "cell_type": "code",
   "execution_count": 2,
   "metadata": {
    "collapsed": false
   },
   "outputs": [],
   "source": [
    "ftools.mkdir('test/test00')"
   ]
  },
  {
   "cell_type": "markdown",
   "metadata": {},
   "source": [
    "### 1.2 mkfile - Advanced file creation "
   ]
  },
  {
   "cell_type": "markdown",
   "metadata": {},
   "source": [
    "Creating files with mkfile is equal to open(filename, mode='w') but it creates all subfolders and prevents you from overriding files accidently."
   ]
  },
  {
   "cell_type": "code",
   "execution_count": 3,
   "metadata": {
    "collapsed": false
   },
   "outputs": [],
   "source": [
    "with ftools.mkfile('test/test00/test.dat', override=True) as fobj:\n",
    "    fobj.write('Hello world,\\n\\nthis is my first file.\\nUsing ftools is so awesome!\\n\\nSee you!')"
   ]
  },
  {
   "cell_type": "code",
   "execution_count": 4,
   "metadata": {
    "collapsed": false
   },
   "outputs": [
    {
     "name": "stdout",
     "output_type": "stream",
     "text": [
      "file exists.\n"
     ]
    }
   ],
   "source": [
    "try:\n",
    "    ftools.mkfile('test/test00/test.dat')\n",
    "except OSError, err:\n",
    "    print(err)"
   ]
  },
  {
   "cell_type": "markdown",
   "metadata": {},
   "source": [
    "### 1.3 exists - File or Directory"
   ]
  },
  {
   "cell_type": "code",
   "execution_count": 5,
   "metadata": {
    "collapsed": false
   },
   "outputs": [
    {
     "data": {
      "text/plain": [
       "False"
      ]
     },
     "execution_count": 5,
     "metadata": {},
     "output_type": "execute_result"
    }
   ],
   "source": [
    "ftools.exists('test/test00/test2.dat')"
   ]
  },
  {
   "cell_type": "code",
   "execution_count": 6,
   "metadata": {
    "collapsed": false
   },
   "outputs": [
    {
     "data": {
      "text/plain": [
       "True"
      ]
     },
     "execution_count": 6,
     "metadata": {},
     "output_type": "execute_result"
    }
   ],
   "source": [
    "ftools.exists('test/test00')"
   ]
  },
  {
   "cell_type": "markdown",
   "metadata": {},
   "source": [
    "## 2. Filename manipulation"
   ]
  },
  {
   "cell_type": "markdown",
   "metadata": {},
   "source": [
    "### 2.1 basename - Strip basename"
   ]
  },
  {
   "cell_type": "markdown",
   "metadata": {},
   "source": [
    "Strip the basename from a filename string."
   ]
  },
  {
   "cell_type": "code",
   "execution_count": 7,
   "metadata": {
    "collapsed": false
   },
   "outputs": [
    {
     "data": {
      "text/plain": [
       "'test.dat'"
      ]
     },
     "execution_count": 7,
     "metadata": {},
     "output_type": "execute_result"
    }
   ],
   "source": [
    "ftools.basename('test/test00/test.dat')"
   ]
  },
  {
   "cell_type": "markdown",
   "metadata": {},
   "source": [
    "### 2.2 dirname - Strip directoryname"
   ]
  },
  {
   "cell_type": "markdown",
   "metadata": {},
   "source": [
    "Strip the directory from a filename string."
   ]
  },
  {
   "cell_type": "code",
   "execution_count": 8,
   "metadata": {
    "collapsed": false
   },
   "outputs": [
    {
     "data": {
      "text/plain": [
       "'test/test00'"
      ]
     },
     "execution_count": 8,
     "metadata": {},
     "output_type": "execute_result"
    }
   ],
   "source": [
    "ftools.dirname('test/test00/test.dat')"
   ]
  },
  {
   "cell_type": "markdown",
   "metadata": {},
   "source": [
    "###  2.3 extension - Strip filetype"
   ]
  },
  {
   "cell_type": "code",
   "execution_count": 9,
   "metadata": {
    "collapsed": false
   },
   "outputs": [
    {
     "data": {
      "text/plain": [
       "'.dat'"
      ]
     },
     "execution_count": 9,
     "metadata": {},
     "output_type": "execute_result"
    }
   ],
   "source": [
    "ftools.extension('test/test00/test.dat')"
   ]
  },
  {
   "cell_type": "markdown",
   "metadata": {},
   "source": [
    "### 2.4 split - Filename splitting "
   ]
  },
  {
   "cell_type": "markdown",
   "metadata": {},
   "source": [
    "Splitting the filename string into directory, filname and optional filetype. T"
   ]
  },
  {
   "cell_type": "code",
   "execution_count": 10,
   "metadata": {
    "collapsed": false
   },
   "outputs": [
    {
     "data": {
      "text/plain": [
       "('test/test00', 'test.dat')"
      ]
     },
     "execution_count": 10,
     "metadata": {},
     "output_type": "execute_result"
    }
   ],
   "source": [
    "ftools.split('test/test00/test.dat')"
   ]
  },
  {
   "cell_type": "code",
   "execution_count": 11,
   "metadata": {
    "collapsed": false
   },
   "outputs": [
    {
     "data": {
      "text/plain": [
       "('test/test00', 'test', '.dat')"
      ]
     },
     "execution_count": 11,
     "metadata": {},
     "output_type": "execute_result"
    }
   ],
   "source": [
    "ftools.split('test/test00/test.dat', extension=True)"
   ]
  },
  {
   "cell_type": "markdown",
   "metadata": {},
   "source": [
    "### 2.2 index - Filename indexing"
   ]
  },
  {
   "cell_type": "markdown",
   "metadata": {},
   "source": [
    "Indexing the basename of a filename string. "
   ]
  },
  {
   "cell_type": "code",
   "execution_count": 12,
   "metadata": {
    "collapsed": false
   },
   "outputs": [
    {
     "name": "stdout",
     "output_type": "stream",
     "text": [
      "test/test01/000_test.dat\n",
      "test/test01/001_test.dat\n",
      "test/test01/002_test.dat\n"
     ]
    }
   ],
   "source": [
    "indexer = ftools.index('test/test01/test.dat', digits=3, inc=1, seperator='_')\n",
    "\n",
    "print(next(indexer))\n",
    "print(next(indexer))\n",
    "print(next(indexer))"
   ]
  },
  {
   "cell_type": "markdown",
   "metadata": {},
   "source": [
    "Indexing and creating file in a for loop with stop position."
   ]
  },
  {
   "cell_type": "code",
   "execution_count": 13,
   "metadata": {
    "collapsed": false
   },
   "outputs": [
    {
     "name": "stdout",
     "output_type": "stream",
     "text": [
      "('test/test01/00_test.txt', <open file 'test/test01/00_test.txt', mode 'w' at 0x7efe6603ec90>)\n",
      "('test/test01/00_test.dat', <open file 'test/test01/00_test.dat', mode 'w' at 0x7efe6603ed20>)\n",
      "('test/test01/01_test.txt', <open file 'test/test01/01_test.txt', mode 'w' at 0x7efe6603edb0>)\n",
      "('test/test01/01_test.dat', <open file 'test/test01/01_test.dat', mode 'w' at 0x7efe6603ec90>)\n",
      "('test/test01/02_test.txt', <open file 'test/test01/02_test.txt', mode 'w' at 0x7efe6603ed20>)\n",
      "('test/test01/02_test.dat', <open file 'test/test01/02_test.dat', mode 'w' at 0x7efe6603edb0>)\n",
      "('test/test01/03_test.txt', <open file 'test/test01/03_test.txt', mode 'w' at 0x7efe6603ec90>)\n",
      "('test/test01/03_test.dat', <open file 'test/test01/03_test.dat', mode 'w' at 0x7efe6603ed20>)\n",
      "('test/test01/04_test.txt', <open file 'test/test01/04_test.txt', mode 'w' at 0x7efe6603edb0>)\n",
      "('test/test01/04_test.dat', <open file 'test/test01/04_test.dat', mode 'w' at 0x7efe6603ec90>)\n",
      "('test/test01/05_test.txt', <open file 'test/test01/05_test.txt', mode 'w' at 0x7efe6603ed20>)\n",
      "('test/test01/05_test.dat', <open file 'test/test01/05_test.dat', mode 'w' at 0x7efe6603edb0>)\n",
      "('test/test01/06_test.txt', <open file 'test/test01/06_test.txt', mode 'w' at 0x7efe6603ec90>)\n",
      "('test/test01/06_test.dat', <open file 'test/test01/06_test.dat', mode 'w' at 0x7efe6603ed20>)\n",
      "('test/test01/07_test.txt', <open file 'test/test01/07_test.txt', mode 'w' at 0x7efe6603edb0>)\n",
      "('test/test01/07_test.dat', <open file 'test/test01/07_test.dat', mode 'w' at 0x7efe6603ec90>)\n",
      "('test/test01/08_test.txt', <open file 'test/test01/08_test.txt', mode 'w' at 0x7efe6603ed20>)\n",
      "('test/test01/08_test.dat', <open file 'test/test01/08_test.dat', mode 'w' at 0x7efe6603edb0>)\n",
      "('test/test01/09_test.txt', <open file 'test/test01/09_test.txt', mode 'w' at 0x7efe6603ec90>)\n",
      "('test/test01/09_test.dat', <open file 'test/test01/09_test.dat', mode 'w' at 0x7efe6603ed20>)\n"
     ]
    }
   ],
   "source": [
    "indexer_txt = ftools.index('test/test01/test.txt', digits=2, stop=10, inc=1, seperator='_')\n",
    "indexer_dat = ftools.index('test/test01/test.dat', digits=2, stop=10, inc=1, seperator='_')\n",
    "\n",
    "for filename_txt, filename_dat in zip(indexer_txt, indexer_dat):\n",
    "    with ftools.mkfile(filename_txt, override=True) as fobj_txt, \\\n",
    "         ftools.mkfile(filename_dat, override=True) as fobj_dat:\n",
    "            print(filename_txt, fobj_txt)\n",
    "            print(filename_dat, fobj_dat)"
   ]
  },
  {
   "cell_type": "markdown",
   "metadata": {},
   "source": [
    "##  3. Filename containers"
   ]
  },
  {
   "cell_type": "markdown",
   "metadata": {},
   "source": [
    "### 3.1 flist - list filenames based on pattern"
   ]
  },
  {
   "cell_type": "markdown",
   "metadata": {},
   "source": [
    "The flist function is a combination of the glob and sorted function. So you can read filnames based on a pattern and sort the result, so it takes all arguments from sorted."
   ]
  },
  {
   "cell_type": "code",
   "execution_count": 14,
   "metadata": {
    "collapsed": false
   },
   "outputs": [
    {
     "data": {
      "text/plain": [
       "['test/test01/00_test.dat',\n",
       " 'test/test01/01_test.dat',\n",
       " 'test/test01/02_test.dat',\n",
       " 'test/test01/03_test.dat',\n",
       " 'test/test01/04_test.dat',\n",
       " 'test/test01/05_test.dat',\n",
       " 'test/test01/06_test.dat',\n",
       " 'test/test01/07_test.dat',\n",
       " 'test/test01/08_test.dat',\n",
       " 'test/test01/09_test.dat']"
      ]
     },
     "execution_count": 14,
     "metadata": {},
     "output_type": "execute_result"
    }
   ],
   "source": [
    "ftools.flist('test/test01/*.dat')"
   ]
  },
  {
   "cell_type": "code",
   "execution_count": 15,
   "metadata": {
    "collapsed": false
   },
   "outputs": [
    {
     "data": {
      "text/plain": [
       "['test/test01/09_test.dat',\n",
       " 'test/test01/08_test.dat',\n",
       " 'test/test01/07_test.dat',\n",
       " 'test/test01/06_test.dat',\n",
       " 'test/test01/05_test.dat',\n",
       " 'test/test01/04_test.dat',\n",
       " 'test/test01/03_test.dat',\n",
       " 'test/test01/02_test.dat',\n",
       " 'test/test01/01_test.dat',\n",
       " 'test/test01/00_test.dat']"
      ]
     },
     "execution_count": 15,
     "metadata": {},
     "output_type": "execute_result"
    }
   ],
   "source": [
    "ftools.flist('test/test01/*.dat', reverse=True)"
   ]
  },
  {
   "cell_type": "code",
   "execution_count": 16,
   "metadata": {
    "collapsed": false
   },
   "outputs": [
    {
     "data": {
      "text/plain": [
       "['test/test01/05_test.dat', 'test/test01/05_test.txt']"
      ]
     },
     "execution_count": 16,
     "metadata": {},
     "output_type": "execute_result"
    }
   ],
   "source": [
    "ftools.flist('test/test01/05*')"
   ]
  },
  {
   "cell_type": "markdown",
   "metadata": {},
   "source": [
    "### 3.2 ftuple - filename tuples"
   ]
  },
  {
   "cell_type": "markdown",
   "metadata": {},
   "source": [
    "The ftuple takes a list of filenames and extracts an index. Useful to read and handle mutiple files in a directory. "
   ]
  },
  {
   "cell_type": "markdown",
   "metadata": {},
   "source": [
    "First let us create a more complex filename list."
   ]
  },
  {
   "cell_type": "code",
   "execution_count": 17,
   "metadata": {
    "collapsed": false
   },
   "outputs": [
    {
     "data": {
      "text/plain": [
       "['000_1mV_-8mV_my_meas.dat',\n",
       " '001_2mV_-7mV_my_meas.dat',\n",
       " '002_3mV_-6mV_my_meas.dat',\n",
       " '003_4mV_-5mV_my_meas.dat']"
      ]
     },
     "execution_count": 17,
     "metadata": {},
     "output_type": "execute_result"
    }
   ],
   "source": [
    "gate0 = ['1mV', '2mV', '3mV', '4mV']\n",
    "gate1 = ['-8mV', '-7mV', '-6mV', '-5mV']\n",
    "filenames = ['{:03d}_{}_{}_my_meas.dat'.format(nr, v0, v1) for nr, (v0, v1) in enumerate(zip(gate0, gate1))]\n",
    "filenames"
   ]
  },
  {
   "cell_type": "code",
   "execution_count": 18,
   "metadata": {
    "collapsed": false
   },
   "outputs": [
    {
     "data": {
      "text/plain": [
       "[('1mV', '000_1mV_-8mV_my_meas.dat'),\n",
       " ('2mV', '001_2mV_-7mV_my_meas.dat'),\n",
       " ('3mV', '002_3mV_-6mV_my_meas.dat'),\n",
       " ('4mV', '003_4mV_-5mV_my_meas.dat')]"
      ]
     },
     "execution_count": 18,
     "metadata": {},
     "output_type": "execute_result"
    }
   ],
   "source": [
    "ftools.ftuple(filenames, index=1, split='_')"
   ]
  },
  {
   "cell_type": "markdown",
   "metadata": {},
   "source": [
    "Fancy indexing known from numpy, we can use tuple or list as an index for selecting more than one index."
   ]
  },
  {
   "cell_type": "code",
   "execution_count": 19,
   "metadata": {
    "collapsed": false
   },
   "outputs": [
    {
     "data": {
      "text/plain": [
       "[('-8mV_1mV_000', '000_1mV_-8mV_my_meas.dat'),\n",
       " ('-7mV_2mV_001', '001_2mV_-7mV_my_meas.dat'),\n",
       " ('-6mV_3mV_002', '002_3mV_-6mV_my_meas.dat'),\n",
       " ('-5mV_4mV_003', '003_4mV_-5mV_my_meas.dat')]"
      ]
     },
     "execution_count": 19,
     "metadata": {},
     "output_type": "execute_result"
    }
   ],
   "source": [
    "ftools.ftuple(filenames, index=(2, 1, 0), split='_')"
   ]
  },
  {
   "cell_type": "markdown",
   "metadata": {},
   "source": [
    "You can also use slice as an index to handle more complex situations."
   ]
  },
  {
   "cell_type": "code",
   "execution_count": 20,
   "metadata": {
    "collapsed": false
   },
   "outputs": [
    {
     "data": {
      "text/plain": [
       "[('000_1mV_-8mV', '000_1mV_-8mV_my_meas.dat'),\n",
       " ('001_2mV_-7mV', '001_2mV_-7mV_my_meas.dat'),\n",
       " ('002_3mV_-6mV', '002_3mV_-6mV_my_meas.dat'),\n",
       " ('003_4mV_-5mV', '003_4mV_-5mV_my_meas.dat')]"
      ]
     },
     "execution_count": 20,
     "metadata": {},
     "output_type": "execute_result"
    }
   ],
   "source": [
    "ftools.ftuple(filenames, index=slice(0, 3, 1), split='_')"
   ]
  },
  {
   "cell_type": "markdown",
   "metadata": {},
   "source": [
    "### 3.3 fdict, fodict - filename dictonaries"
   ]
  },
  {
   "cell_type": "markdown",
   "metadata": {},
   "source": [
    "The fdict and fodict functions are similar to the ftuple method but returns a dict or orderdict instead of a list of tuples."
   ]
  },
  {
   "cell_type": "code",
   "execution_count": 21,
   "metadata": {
    "collapsed": false
   },
   "outputs": [
    {
     "data": {
      "text/plain": [
       "{'000_1mV_-8mV': '000_1mV_-8mV_my_meas.dat',\n",
       " '001_2mV_-7mV': '001_2mV_-7mV_my_meas.dat',\n",
       " '002_3mV_-6mV': '002_3mV_-6mV_my_meas.dat',\n",
       " '003_4mV_-5mV': '003_4mV_-5mV_my_meas.dat'}"
      ]
     },
     "execution_count": 21,
     "metadata": {},
     "output_type": "execute_result"
    }
   ],
   "source": [
    "fd = ftools.fdict(filenames, index=slice(0, 3, 1), split='_')\n",
    "fd"
   ]
  },
  {
   "cell_type": "code",
   "execution_count": 22,
   "metadata": {
    "collapsed": false
   },
   "outputs": [
    {
     "data": {
      "text/plain": [
       "{'1mV_-8mV': '000_1mV_-8mV_my_meas.dat',\n",
       " '2mV_-7mV': '001_2mV_-7mV_my_meas.dat',\n",
       " '3mV_-6mV': '002_3mV_-6mV_my_meas.dat',\n",
       " '4mV_-5mV': '003_4mV_-5mV_my_meas.dat'}"
      ]
     },
     "execution_count": 22,
     "metadata": {},
     "output_type": "execute_result"
    }
   ],
   "source": [
    "fod = ftools.fdict(filenames, index=(1,2), split='_')\n",
    "fod"
   ]
  },
  {
   "cell_type": "markdown",
   "metadata": {},
   "source": [
    "### 3.4 iopen - Open multiple files at ones"
   ]
  },
  {
   "cell_type": "markdown",
   "metadata": {},
   "source": [
    "Iopen takes a filename container and returns a new container with opens all files."
   ]
  },
  {
   "cell_type": "code",
   "execution_count": 23,
   "metadata": {
    "collapsed": false
   },
   "outputs": [
    {
     "name": "stdout",
     "output_type": "stream",
     "text": [
      "[<open file 'test/test01/00_test.dat', mode 'r' at 0x7efe6603ef60>]\n",
      "[('02', <open file 'test/test01/02_test.dat', mode 'r' at 0x7efe5e3094b0>)]\n",
      "[('00', <open file 'test/test01/00_test.dat', mode 'r' at 0x7efe6603ef60>)]\n"
     ]
    }
   ],
   "source": [
    "flist = ftools.flist('test/test01/*.dat')\n",
    "\n",
    "with ftools.iopen(flist) as objs: \n",
    "    print(objs[:1])\n",
    "    \n",
    "with ftools.iopen(ftools.fdict(flist)) as objs: \n",
    "    print(objs.items()[:1])\n",
    "    \n",
    "with ftools.iopen(ftools.ftuple(flist)) as objs: \n",
    "    print(objs[:1])"
   ]
  },
  {
   "cell_type": "markdown",
   "metadata": {},
   "source": [
    "Ofcourse you can close on your own."
   ]
  },
  {
   "cell_type": "code",
   "execution_count": 24,
   "metadata": {
    "collapsed": false
   },
   "outputs": [
    {
     "name": "stdout",
     "output_type": "stream",
     "text": [
      "[<open file 'test/test01/00_test.dat', mode 'r' at 0x7efe5e3099c0>]\n"
     ]
    }
   ],
   "source": [
    "oflist = ftools.iopen(flist)\n",
    "print(oflist[:1])\n",
    "oflist.close()"
   ]
  },
  {
   "cell_type": "markdown",
   "metadata": {},
   "source": [
    "## 4. Pickle"
   ]
  },
  {
   "cell_type": "markdown",
   "metadata": {},
   "source": [
    "### 4.1 pdump "
   ]
  },
  {
   "cell_type": "markdown",
   "metadata": {},
   "source": [
    "An advanced version of pickle.dump. It creates all folders in filename and checks for existing file by using mkfile."
   ]
  },
  {
   "cell_type": "code",
   "execution_count": 25,
   "metadata": {
    "collapsed": false
   },
   "outputs": [],
   "source": [
    "my_data = [0, 2, 5, 8, 10, 100]\n",
    "ftools.pdump(my_data, 'test/my_data.pickle', override=True)"
   ]
  },
  {
   "cell_type": "markdown",
   "metadata": {},
   "source": [
    "You can also use podump with file objects."
   ]
  },
  {
   "cell_type": "code",
   "execution_count": 26,
   "metadata": {
    "collapsed": false
   },
   "outputs": [],
   "source": [
    "my_data = [0, 2, 5, 8, 10, 100]\n",
    "with open('test/my_data.pickle', mode='w') as fobj:\n",
    "    ftools.pdump(my_data, fobj)"
   ]
  },
  {
   "cell_type": "markdown",
   "metadata": {},
   "source": [
    "### 4.2 pload"
   ]
  },
  {
   "cell_type": "markdown",
   "metadata": {},
   "source": [
    "Pload handles filenames, opens the corresponding file, unpickles everything and closes it at the end."
   ]
  },
  {
   "cell_type": "code",
   "execution_count": 27,
   "metadata": {
    "collapsed": false
   },
   "outputs": [
    {
     "data": {
      "text/plain": [
       "[0, 2, 5, 8, 10, 100]"
      ]
     },
     "execution_count": 27,
     "metadata": {},
     "output_type": "execute_result"
    }
   ],
   "source": [
    "ftools.pload('test/my_data.pickle')"
   ]
  },
  {
   "cell_type": "markdown",
   "metadata": {},
   "source": [
    "But you can also use file objects if you like to close and open on your own."
   ]
  },
  {
   "cell_type": "code",
   "execution_count": 28,
   "metadata": {
    "collapsed": false
   },
   "outputs": [
    {
     "data": {
      "text/plain": [
       "[0, 2, 5, 8, 10, 100]"
      ]
     },
     "execution_count": 28,
     "metadata": {},
     "output_type": "execute_result"
    }
   ],
   "source": [
    "with open('test/my_data.pickle') as fobj:\n",
    "    my_data_unpickled = ftools.pload(fobj)\n",
    "my_data_unpickled"
   ]
  },
  {
   "cell_type": "markdown",
   "metadata": {},
   "source": [
    "## 5. Reading"
   ]
  },
  {
   "cell_type": "markdown",
   "metadata": {},
   "source": [
    "### 5.1 read - File content to string"
   ]
  },
  {
   "cell_type": "markdown",
   "metadata": {},
   "source": [
    "Read the entire file or a certain number of lines into a string."
   ]
  },
  {
   "cell_type": "code",
   "execution_count": 29,
   "metadata": {
    "collapsed": false
   },
   "outputs": [
    {
     "name": "stdout",
     "output_type": "stream",
     "text": [
      "Hello world,\n",
      "\n",
      "this is my first file.\n",
      "Using ftools is so awesome!\n",
      "\n",
      "See you!\n"
     ]
    }
   ],
   "source": [
    "file_str = ftools.read('test/test00/test.dat')\n",
    "print(file_str)"
   ]
  },
  {
   "cell_type": "code",
   "execution_count": 30,
   "metadata": {
    "collapsed": false
   },
   "outputs": [
    {
     "name": "stdout",
     "output_type": "stream",
     "text": [
      "Hello world,\n",
      "\n",
      "this is my first file.\n",
      "Using ftools is so awesome!\n"
     ]
    }
   ],
   "source": [
    "file_str = ftools.read('test/test00/test.dat', nr=4)\n",
    "print(file_str)"
   ]
  },
  {
   "cell_type": "markdown",
   "metadata": {},
   "source": [
    "You can avoid stripping empty lines at the beginning and ending of a file."
   ]
  },
  {
   "cell_type": "code",
   "execution_count": 31,
   "metadata": {
    "collapsed": false
   },
   "outputs": [
    {
     "name": "stdout",
     "output_type": "stream",
     "text": [
      "Hello world,\n",
      "\n",
      "this is my first file.\n",
      "Using ftools is so awesome!\n",
      "\n"
     ]
    }
   ],
   "source": [
    "file_str = ftools.read('test/test00/test.dat', nr=4, strip=False)\n",
    "print(file_str)"
   ]
  }
 ],
 "metadata": {
  "kernelspec": {
   "display_name": "Python 2",
   "language": "python",
   "name": "python2"
  },
  "language_info": {
   "codemirror_mode": {
    "name": "ipython",
    "version": 2
   },
   "file_extension": ".py",
   "mimetype": "text/x-python",
   "name": "python",
   "nbconvert_exporter": "python",
   "pygments_lexer": "ipython2",
   "version": "2.7.8"
  }
 },
 "nbformat": 4,
 "nbformat_minor": 0
}
